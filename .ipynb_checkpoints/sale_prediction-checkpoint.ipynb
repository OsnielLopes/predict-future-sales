{
 "cells": [
  {
   "cell_type": "code",
   "execution_count": 6,
   "id": "e38332a2",
   "metadata": {},
   "outputs": [],
   "source": [
    "import csv\n",
    "from collections import defaultdict\n",
    "\n",
    "series = defaultdict(list)\n",
    "with open('sales_train.csv') as csvfile:\n",
    "    reader = csv.DictReader(csvfile)\n",
    "    for row in reader:\n",
    "        series[row.pop('shop_id'), row.pop('item_id')].append(row)\n",
    "\n"
   ]
  },
  {
   "cell_type": "code",
   "execution_count": 8,
   "id": "5de5c46b",
   "metadata": {},
   "outputs": [],
   "source": [
    "biggest_serie, biggest_serie_size = None, None\n",
    "for serie_id, items in series:\n",
    "    serie_size = len(items)\n",
    "    if biggest_serie_size is None:\n",
    "        biggest_serie_size = serie_size\n",
    "        biggest_serie = serie_id\n",
    "    elif serie_size > biggest_serie_size:\n",
    "        biggest_serie_size = serie_size\n",
    "        biggest_serie = serie_id\n",
    "    \n",
    "    "
   ]
  },
  {
   "cell_type": "code",
   "execution_count": null,
   "id": "6688737b",
   "metadata": {},
   "outputs": [],
   "source": []
  }
 ],
 "metadata": {
  "kernelspec": {
   "display_name": "Python 3 (ipykernel)",
   "language": "python",
   "name": "python3"
  },
  "language_info": {
   "codemirror_mode": {
    "name": "ipython",
    "version": 3
   },
   "file_extension": ".py",
   "mimetype": "text/x-python",
   "name": "python",
   "nbconvert_exporter": "python",
   "pygments_lexer": "ipython3",
   "version": "3.10.6"
  }
 },
 "nbformat": 4,
 "nbformat_minor": 5
}
